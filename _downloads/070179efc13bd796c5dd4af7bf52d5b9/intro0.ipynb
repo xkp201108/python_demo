{
  "cells": [
    {
      "cell_type": "code",
      "execution_count": null,
      "metadata": {
        "id": "QNx5UWgyX9LX"
      },
      "outputs": [],
      "source": [
        "# For tips on running notebooks in Google Colab, see\n",
        "# https://pytorch.org/tutorials/beginner/colab\n",
        "%matplotlib inline"
      ]
    },
    {
      "cell_type": "code",
      "source": [
        "import torch\n",
        "import numpy as np\n"
      ],
      "metadata": {
        "id": "lAFsdWQ8Yd7g"
      },
      "execution_count": 1,
      "outputs": []
    },
    {
      "cell_type": "code",
      "source": [
        "data = [[1,2],[3,4]]\n",
        "x_data = torch.tensor(data)\n",
        "# x_data\n",
        "np_array = np.array(data)\n",
        "x_np = torch.from_numpy(np_array)\n",
        "# x_np\n",
        "x_ones = torch.ones_like(x_data)\n",
        "x_rand = torch.rand_like(x_data,dtype=torch.float)\n",
        "x_rand"
      ],
      "metadata": {
        "id": "YtAyKAIUZXLn",
        "outputId": "a4506e4c-8e12-48ad-dc75-7071e961cfb2",
        "colab": {
          "base_uri": "https://localhost:8080/"
        }
      },
      "execution_count": 6,
      "outputs": [
        {
          "output_type": "execute_result",
          "data": {
            "text/plain": [
              "tensor([[0.2601, 0.9986],\n",
              "        [0.4002, 0.2287]])"
            ]
          },
          "metadata": {},
          "execution_count": 6
        }
      ]
    },
    {
      "cell_type": "code",
      "source": [
        "shape = (2,3,)\n",
        "rand_tensor = torch.rand(shape)\n",
        "ones_tensor = torch.ones(shape)\n",
        "zeros_tensor = torch.zeros(shape)\n",
        "print(rand_tensor)\n",
        "print(ones_tensor)\n",
        "print(zeros_tensor)"
      ],
      "metadata": {
        "id": "sg29uf4qZXYu",
        "outputId": "71a10883-b242-4f47-c997-6de29a0128e9",
        "colab": {
          "base_uri": "https://localhost:8080/"
        }
      },
      "execution_count": 7,
      "outputs": [
        {
          "output_type": "stream",
          "name": "stdout",
          "text": [
            "tensor([[0.9067, 0.6177, 0.4922],\n",
            "        [0.6663, 0.0134, 0.3808]])\n",
            "tensor([[1., 1., 1.],\n",
            "        [1., 1., 1.]])\n",
            "tensor([[0., 0., 0.],\n",
            "        [0., 0., 0.]])\n"
          ]
        }
      ]
    },
    {
      "cell_type": "code",
      "source": [
        "tensor = torch.rand(3,4)\n",
        "print(tensor.shape)\n",
        "print(tensor.dtype)\n",
        "print(tensor.device)"
      ],
      "metadata": {
        "id": "eEYXSMUeZXcX",
        "outputId": "ee242b81-69bf-41be-f8f0-fa86b8942154",
        "colab": {
          "base_uri": "https://localhost:8080/"
        }
      },
      "execution_count": 8,
      "outputs": [
        {
          "output_type": "stream",
          "name": "stdout",
          "text": [
            "torch.Size([3, 4])\n",
            "torch.float32\n",
            "cpu\n"
          ]
        }
      ]
    },
    {
      "cell_type": "code",
      "source": [
        "if torch.cuda.is_available():\n",
        "  tensor = tensor.to('cuda')"
      ],
      "metadata": {
        "id": "OCD9ToA1bMU4"
      },
      "execution_count": 9,
      "outputs": []
    },
    {
      "cell_type": "code",
      "source": [
        "print(tensor.shape)\n",
        "print(tensor.dtype)\n",
        "print(tensor)"
      ],
      "metadata": {
        "id": "1lS1zdp_bMYB",
        "outputId": "789ab82a-ed4d-4be5-a9e0-3052c1115936",
        "colab": {
          "base_uri": "https://localhost:8080/"
        }
      },
      "execution_count": 12,
      "outputs": [
        {
          "output_type": "stream",
          "name": "stdout",
          "text": [
            "torch.Size([3, 4])\n",
            "torch.float32\n",
            "tensor([[0.2915, 0.9390, 0.8166, 0.5853],\n",
            "        [0.9096, 0.0047, 0.1320, 0.7740],\n",
            "        [0.5951, 0.1125, 0.3761, 0.4372]])\n"
          ]
        }
      ]
    },
    {
      "cell_type": "code",
      "source": [
        "tensor = torch.ones(4,3)\n",
        "print(tensor)\n",
        "print(tensor[0])\n",
        "print(tensor[:,0])\n",
        "print(tensor[...,-1])\n",
        "tensor[:,1] = 0\n",
        "print(tensor)"
      ],
      "metadata": {
        "id": "isHLifx-bMfm",
        "outputId": "6c9938f7-fd6d-46ec-ea4b-b91890304427",
        "colab": {
          "base_uri": "https://localhost:8080/"
        }
      },
      "execution_count": 15,
      "outputs": [
        {
          "output_type": "stream",
          "name": "stdout",
          "text": [
            "tensor([[1., 1., 1.],\n",
            "        [1., 1., 1.],\n",
            "        [1., 1., 1.],\n",
            "        [1., 1., 1.]])\n",
            "tensor([1., 1., 1.])\n",
            "tensor([1., 1., 1., 1.])\n",
            "tensor([1., 1., 1., 1.])\n",
            "tensor([[1., 0., 1.],\n",
            "        [1., 0., 1.],\n",
            "        [1., 0., 1.],\n",
            "        [1., 0., 1.]])\n"
          ]
        }
      ]
    },
    {
      "cell_type": "code",
      "source": [
        "t1 = torch.cat([tensor,tensor,tensor],dim=1)\n",
        "print(t1)"
      ],
      "metadata": {
        "id": "IjX4IoPXcJzy",
        "outputId": "2629c37b-50a3-4258-f72a-e10be06e1e1e",
        "colab": {
          "base_uri": "https://localhost:8080/"
        }
      },
      "execution_count": 16,
      "outputs": [
        {
          "output_type": "stream",
          "name": "stdout",
          "text": [
            "tensor([[1., 0., 1., 1., 0., 1., 1., 0., 1.],\n",
            "        [1., 0., 1., 1., 0., 1., 1., 0., 1.],\n",
            "        [1., 0., 1., 1., 0., 1., 1., 0., 1.],\n",
            "        [1., 0., 1., 1., 0., 1., 1., 0., 1.]])\n"
          ]
        }
      ]
    },
    {
      "cell_type": "code",
      "source": [
        "print(tensor)\n",
        "y1 = tensor @ tensor.T\n",
        "print(y1)\n",
        "y2 = tensor.matmul(tensor.T)\n",
        "print(y2)\n",
        "y3 = torch.rand_like(y1)\n",
        "print(y3)\n",
        "torch.matmul(tensor,tensor.T,out=y3)"
      ],
      "metadata": {
        "id": "ANjYeDUfcJ4t",
        "outputId": "18ae0b4f-1521-49e9-de3a-7b988ea57cfc",
        "colab": {
          "base_uri": "https://localhost:8080/"
        }
      },
      "execution_count": 19,
      "outputs": [
        {
          "output_type": "stream",
          "name": "stdout",
          "text": [
            "tensor([[1., 0., 1.],\n",
            "        [1., 0., 1.],\n",
            "        [1., 0., 1.],\n",
            "        [1., 0., 1.]])\n",
            "tensor([[2., 2., 2., 2.],\n",
            "        [2., 2., 2., 2.],\n",
            "        [2., 2., 2., 2.],\n",
            "        [2., 2., 2., 2.]])\n",
            "tensor([[2., 2., 2., 2.],\n",
            "        [2., 2., 2., 2.],\n",
            "        [2., 2., 2., 2.],\n",
            "        [2., 2., 2., 2.]])\n",
            "tensor([[0.4305, 0.5944, 0.5610, 0.3067],\n",
            "        [0.6524, 0.3941, 0.5982, 0.8897],\n",
            "        [0.4182, 0.3080, 0.3249, 0.6694],\n",
            "        [0.5735, 0.5791, 0.5156, 0.7866]])\n"
          ]
        },
        {
          "output_type": "execute_result",
          "data": {
            "text/plain": [
              "tensor([[2., 2., 2., 2.],\n",
              "        [2., 2., 2., 2.],\n",
              "        [2., 2., 2., 2.],\n",
              "        [2., 2., 2., 2.]])"
            ]
          },
          "metadata": {},
          "execution_count": 19
        }
      ]
    },
    {
      "cell_type": "code",
      "source": [
        "z1 = tensor*tensor\n",
        "z2 = tensor.mul(tensor)\n",
        "print(z1,z2)\n",
        "z3 = torch.rand_like(tensor)\n",
        "torch.mul(tensor,tensor,out=z3)"
      ],
      "metadata": {
        "id": "hyMcLgpBcJ-a",
        "outputId": "9b425d31-fedb-4ef3-d570-cefd58d4c7e9",
        "colab": {
          "base_uri": "https://localhost:8080/"
        }
      },
      "execution_count": 21,
      "outputs": [
        {
          "output_type": "stream",
          "name": "stdout",
          "text": [
            "tensor([[1., 0., 1.],\n",
            "        [1., 0., 1.],\n",
            "        [1., 0., 1.],\n",
            "        [1., 0., 1.]]) tensor([[1., 0., 1.],\n",
            "        [1., 0., 1.],\n",
            "        [1., 0., 1.],\n",
            "        [1., 0., 1.]])\n"
          ]
        },
        {
          "output_type": "execute_result",
          "data": {
            "text/plain": [
              "tensor([[1., 0., 1.],\n",
              "        [1., 0., 1.],\n",
              "        [1., 0., 1.],\n",
              "        [1., 0., 1.]])"
            ]
          },
          "metadata": {},
          "execution_count": 21
        }
      ]
    },
    {
      "cell_type": "code",
      "source": [
        "agg = tensor.sum()\n",
        "print(agg)\n",
        "agg_item = agg.item()\n",
        "print(agg_item)\n",
        "print(type(agg_item))"
      ],
      "metadata": {
        "id": "Fw3DnSShp2wm",
        "outputId": "7f243bfb-bc79-4daa-c1c4-68dafc0a9928",
        "colab": {
          "base_uri": "https://localhost:8080/"
        }
      },
      "execution_count": 22,
      "outputs": [
        {
          "output_type": "stream",
          "name": "stdout",
          "text": [
            "tensor(8.)\n",
            "8.0\n",
            "<class 'float'>\n"
          ]
        }
      ]
    },
    {
      "cell_type": "code",
      "source": [
        "tensor.add_(5)\n",
        "print(tensor)"
      ],
      "metadata": {
        "id": "f1RgeHZ4p25h",
        "outputId": "4fe4f2a5-bf27-4e69-8fea-4056a7da14f3",
        "colab": {
          "base_uri": "https://localhost:8080/"
        }
      },
      "execution_count": 23,
      "outputs": [
        {
          "output_type": "stream",
          "name": "stdout",
          "text": [
            "tensor([[6., 5., 6.],\n",
            "        [6., 5., 6.],\n",
            "        [6., 5., 6.],\n",
            "        [6., 5., 6.]])\n"
          ]
        }
      ]
    },
    {
      "cell_type": "code",
      "source": [
        "t = torch.ones(5)\n",
        "print(t)\n",
        "n = t.numpy()\n",
        "print(n)"
      ],
      "metadata": {
        "id": "BXkYEibjp2-A",
        "outputId": "64b84d34-c4c6-42e5-c7b2-553cad0366b7",
        "colab": {
          "base_uri": "https://localhost:8080/"
        }
      },
      "execution_count": 24,
      "outputs": [
        {
          "output_type": "stream",
          "name": "stdout",
          "text": [
            "tensor([1., 1., 1., 1., 1.])\n",
            "[1. 1. 1. 1. 1.]\n"
          ]
        }
      ]
    },
    {
      "cell_type": "code",
      "source": [
        "t.add_(1)\n",
        "print(t)\n",
        "print(n)"
      ],
      "metadata": {
        "id": "oFlcJ5EGsthM",
        "outputId": "90049648-8af4-44e6-a735-36e2949d8ba0",
        "colab": {
          "base_uri": "https://localhost:8080/"
        }
      },
      "execution_count": 27,
      "outputs": [
        {
          "output_type": "stream",
          "name": "stdout",
          "text": [
            "tensor([4., 4., 4., 4., 4.])\n",
            "[4. 4. 4. 4. 4.]\n"
          ]
        }
      ]
    },
    {
      "cell_type": "code",
      "source": [
        "n = np.ones(5)\n",
        "t = torch.from_numpy(n)\n",
        "np.add(n,1,out=n)\n",
        "print(n)\n",
        "print(t)"
      ],
      "metadata": {
        "id": "8VyQ4j_mtL1Q",
        "outputId": "1ae2d46f-1590-495a-814c-2ed4d9555186",
        "colab": {
          "base_uri": "https://localhost:8080/"
        }
      },
      "execution_count": 28,
      "outputs": [
        {
          "output_type": "stream",
          "name": "stdout",
          "text": [
            "[2. 2. 2. 2. 2.]\n",
            "tensor([2., 2., 2., 2., 2.], dtype=torch.float64)\n"
          ]
        }
      ]
    },
    {
      "cell_type": "code",
      "source": [],
      "metadata": {
        "id": "ueEyk_XystoK"
      },
      "execution_count": null,
      "outputs": []
    }
  ],
  "metadata": {
    "kernelspec": {
      "display_name": "Python 3",
      "language": "python",
      "name": "python3"
    },
    "language_info": {
      "codemirror_mode": {
        "name": "ipython",
        "version": 3
      },
      "file_extension": ".py",
      "mimetype": "text/x-python",
      "name": "python",
      "nbconvert_exporter": "python",
      "pygments_lexer": "ipython3",
      "version": "3.10.9"
    },
    "colab": {
      "provenance": []
    }
  },
  "nbformat": 4,
  "nbformat_minor": 0
}
